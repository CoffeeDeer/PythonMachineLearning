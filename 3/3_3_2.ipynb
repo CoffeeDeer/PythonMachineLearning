{
  "nbformat": 4,
  "nbformat_minor": 0,
  "metadata": {
    "colab": {
      "name": "3-3-2.ipynb",
      "provenance": [],
      "collapsed_sections": []
    },
    "kernelspec": {
      "name": "python3",
      "display_name": "Python 3"
    }
  },
  "cells": [
    {
      "cell_type": "code",
      "metadata": {
        "id": "AZxknfzN74Kn",
        "colab_type": "code",
        "colab": {}
      },
      "source": [
        "# 경사 하강법을 사용한 로지스틱 회귀 분류기\n",
        "class LogisticRegressionGD(object):\n",
        "  \n",
        "  def __init__(self, eta=0.0, n_iter=100, random_state=1):\n",
        "    self.eta = eta\n",
        "    self.n_iter = n_iter\n",
        "    self.random_state = random_state\n",
        "\n",
        "  def fit(self, X, y):\n",
        "    rgen = np.random.RandomState(self.random_state)\n",
        "    self.w_ = rgen.normal(loc=0.0, scale=0.01, size=1 + X.shape[1])\n",
        "\n",
        "    self.cost_ = []\n",
        "\n",
        "    for i in range(self.n_iter):\n",
        "      net_input = self.net_input(X)\n",
        "      output = self.activation(net_input)\n",
        "      errors = (y - output)\n",
        "\n",
        "      self.w_[1:] += self.eta * X.T.dot(errors)\n",
        "      self.w_[0] += self.eta * errors.sum()\n",
        "\n",
        "      # 오차 제곱합 대신 로지스틱 비용을 계산 - 이전의 수학공식 내용\n",
        "      cost = (-y.dot(np.log(output)) - ((1-y).dot(np.log(1-output))))\n",
        "      self.cost_.append(cost)\n",
        "    \n",
        "  def net_input(self, X):\n",
        "    return np.dot(X, self.w_[1:]) + self.w_[0]\n",
        "\n",
        "  # 시그모이드 활성화 함수\n",
        "  def activation(self, z):\n",
        "    return 1. / (1. + np.exp(-np.clip(z, -250, 250)))\n",
        "\n",
        "  # 단위 계단 함수를 사용하여 클레스 레이블을 반환\n",
        "  def predict(self, X):\n",
        "    return np.where(self.activation(self.net_input(X)) >= 0.5, 1, 0)\n",
        "\n"
      ],
      "execution_count": 0,
      "outputs": []
    },
    {
      "cell_type": "code",
      "metadata": {
        "id": "aKZT8cF5BJ6N",
        "colab_type": "code",
        "colab": {}
      },
      "source": [
        "from matplotlib.colors import ListedColormap\n",
        "import matplotlib.pyplot as plt\n",
        "\n",
        "def plot_decision_regions(X, y, classifier, test_idx=None, resolution=0.02):\n",
        "  # set marker * colors\n",
        "  markers = ('s', 'x', 'o', '^', 'v')\n",
        "  colors = ('red', 'blue', 'lightgreen', 'gray', 'cyan')\n",
        "  cmap = ListedColormap(colors[:len(np.unique(y))])\n",
        "\n",
        "  # 결정경계를 그린다.\n",
        "  x1_min, x1_max = X[:, 0].min() -1, X[:, 0].max() + 1\n",
        "  x2_min, x2_max = X[:, 1].min() -1, X[:, 1].max() + 1\n",
        "\n",
        "  xx1, xx2 = np.meshgrid(np.arange(x1_min, x1_max, resolution),\n",
        "                         np.arange(x2_min, x2_max, resolution))\n",
        "  \n",
        "  Z = classifier.predict(np.array([xx1.ravel(), xx2.ravel()]).T)\n",
        "  Z = Z.reshape(xx1.shape)\n",
        "\n",
        "  plt.contourf(xx1, xx2, Z, alpha=0.3, cmap=cmap)\n",
        "  plt.xlim(xx1.min(), xx1.max())\n",
        "  plt.ylim(xx2.min(), xx2.max())\n",
        "\n",
        "  for idx, cl in enumerate(np.unique(y)):\n",
        "    plt.scatter(x=X[y == cl, 0], y=X[y == cl, 1], alpha=0.3, c=colors[idx], marker=markers[idx], label=cl, edgecolor='black')\n",
        "\n",
        "  if test_idx:\n",
        "    X_test, y_test = X[test_idx, :], y[test_idx]\n",
        "\n",
        "    plt.scatter(X_test[:, 0], X_test[:, 1], c='', edgecolor='black', alpha=1.0, linewidth=1, marker='o', s=100, label='test set')"
      ],
      "execution_count": 0,
      "outputs": []
    },
    {
      "cell_type": "code",
      "metadata": {
        "id": "CDQHI5DcBaLb",
        "colab_type": "code",
        "colab": {
          "base_uri": "https://localhost:8080/",
          "height": 34
        },
        "outputId": "d3cfdb2c-ac68-4ade-975d-60ae4883a6b9"
      },
      "source": [
        "from sklearn import datasets\n",
        "import numpy as np\n",
        "\n",
        "iris = datasets.load_iris()\n",
        "X = iris.data[:, [2, 3]]\n",
        "y = iris.target\n",
        "print('클래스 레이블:', np.unique(y))\n"
      ],
      "execution_count": 25,
      "outputs": [
        {
          "output_type": "stream",
          "text": [
            "클래스 레이블: [0 1 2]\n"
          ],
          "name": "stdout"
        }
      ]
    },
    {
      "cell_type": "code",
      "metadata": {
        "id": "cQzaPYQs_qog",
        "colab_type": "code",
        "colab": {
          "base_uri": "https://localhost:8080/",
          "height": 297
        },
        "outputId": "5bf8027c-f9ab-4576-9f5c-3fc7616ae942"
      },
      "source": [
        "import matplotlib.pyplot as plt\n",
        "from sklearn.model_selection import train_test_split\n",
        "\n",
        "X_train, X_test, y_train, y_test = train_test_split(X, y, test_size=0.3, random_state=1, stratify=y)\n",
        "\n",
        "X_train_01_subset = X_train[(y_train == 0) | (y_train == 1)]\n",
        "y_train_01_subset = y_train[(y_train == 0) | (y_train == 1)]\n",
        "\n",
        "lrgd = LogisticRegressionGD(n_iter=1000, eta=0.05, random_state=1)\n",
        "lrgd.fit(X_train_01_subset, y_train_01_subset)\n",
        "\n",
        "plot_decision_regions(X=X_train_01_subset, y=y_train_01_subset, classifier=lrgd)\n",
        "\n",
        "plt.xlabel('petal length')\n",
        "plt.ylabel('petal width')\n",
        "plt.legend(loc='upper left')\n",
        "plt.tight_layout()\n",
        "plt.show()"
      ],
      "execution_count": 27,
      "outputs": [
        {
          "output_type": "display_data",
          "data": {
            "image/png": "[encoded data removed]",
            "text/plain": [
              "<Figure size 432x288 with 1 Axes>"
            ]
          },
          "metadata": {
            "tags": [],
            "needs_background": "light"
          }
        }
      ]
    },
    {
      "cell_type": "code",
      "metadata": {
        "id": "fto_ydcCBVSB",
        "colab_type": "code",
        "colab": {}
      },
      "source": [
        ""
      ],
      "execution_count": 0,
      "outputs": []
    }
  ]
}