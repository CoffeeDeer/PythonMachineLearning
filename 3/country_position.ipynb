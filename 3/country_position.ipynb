{
  "nbformat": 4,
  "nbformat_minor": 0,
  "metadata": {
    "colab": {
      "name": "country_position.ipynb",
      "provenance": [],
      "collapsed_sections": []
    },
    "kernelspec": {
      "name": "python3",
      "display_name": "Python 3"
    }
  },
  "cells": [
    {
      "cell_type": "code",
      "metadata": {
        "id": "BtCMnm_m0P3-",
        "colab_type": "code",
        "colab": {}
      },
      "source": [
        "# -40.900557, 174.885971, New Zealand\n",
        "import sys\n",
        "import csv\n",
        "import numpy as np\n",
        "\n",
        "country = []\n",
        "latitude = []\n",
        "longtitude = []\n",
        "\n",
        "with open('country.csv', newline='') as csvfile:\n",
        "  spamreader = csv.reader(csvfile, delimiter=' ', quotechar='|')\n",
        "  for row in spamreader:\n",
        "    items = row[0].split(',')\n",
        "    country.append(items[2])\n",
        "    latitude.append( float(items[0]))\n",
        "    longtitude.append( float(items[1]) )"
      ],
      "execution_count": 0,
      "outputs": []
    },
    {
      "cell_type": "code",
      "metadata": {
        "id": "mp1GQ0DJku2w",
        "colab_type": "code",
        "colab": {}
      },
      "source": [
        "latitude = np.array(latitude)\n",
        "longtitude = np.array(longtitude)"
      ],
      "execution_count": 0,
      "outputs": []
    },
    {
      "cell_type": "code",
      "metadata": {
        "id": "HDM7jiRAkVX2",
        "colab_type": "code",
        "colab": {}
      },
      "source": [
        "lt_mean = latitude.mean()\n",
        "lt_std = latitude.std()\n",
        "\n",
        "latitude = (latitude - lt_mean)/lt_std\n",
        "\n",
        "lo_mean = longtitude.mean()\n",
        "lo_std = longtitude.std()\n",
        "\n",
        "longtitude = (longtitude - lo_mean)/lo_std"
      ],
      "execution_count": 0,
      "outputs": []
    },
    {
      "cell_type": "code",
      "metadata": {
        "id": "2di1fKLd5WhQ",
        "colab_type": "code",
        "colab": {}
      },
      "source": [
        "import string\n",
        "\n",
        "characters = string.printable\n",
        "token_index = dict(zip(characters, range(1, len(characters) +1 )))\n",
        "\n",
        "max_length = 13\n",
        "\n",
        "results = np.zeros((len(country), max_length, max(token_index.values()) + 1))\n",
        "for i, sample in enumerate(country):\n",
        "  for j, character in enumerate(sample):\n",
        "    index = token_index.get(character)\n",
        "    results[i, j , index] = 1."
      ],
      "execution_count": 0,
      "outputs": []
    },
    {
      "cell_type": "code",
      "metadata": {
        "id": "HNe5sfWsaBe5",
        "colab_type": "code",
        "colab": {
          "base_uri": "https://localhost:8080/",
          "height": 68
        },
        "outputId": "94798001-4d64-4040-959e-217232a5d6cf"
      },
      "source": [
        "np.shape(results)\n",
        "print(np.shape(results))\n",
        "print(type(results))\n",
        "print(type(results[0][0][0]))"
      ],
      "execution_count": 129,
      "outputs": [
        {
          "output_type": "stream",
          "text": [
            "(243, 13, 101)\n",
            "<class 'numpy.ndarray'>\n",
            "<class 'numpy.float64'>\n"
          ],
          "name": "stdout"
        }
      ]
    },
    {
      "cell_type": "code",
      "metadata": {
        "id": "lOjB1LlM1rV4",
        "colab_type": "code",
        "colab": {}
      },
      "source": [
        "from keras import layers\n",
        "from keras import Input\n",
        "from keras.models import Model\n",
        "\n",
        "countryInput = Input(shape=(13 ,101, ), dtype='float32', name='position')\n",
        "print(np.shape(countryInput))\n",
        "\n",
        "x = None\n",
        "x = layers.Conv1D(64, 5, activation='relu')(countryInput)\n",
        "x = layers.MaxPooling1D(3)(x)\n",
        "x = layers.Conv1D(64, 3, activation='relu')(x)\n",
        "x = layers.GlobalMaxPooling1D()(x)\n",
        "x = layers.Dense(16, activation='relu')(x)\n",
        "\n",
        "latitude_prediction = layers.Dense(1, name='latitude')(x)\n",
        "longtitude_prediction = layers.Dense(1, name='longtitude')(x)\n",
        "\n",
        "model = Model(countryInput, [latitude_prediction, longtitude_prediction])\n",
        "\n",
        "model.compile(optimizer='rmsprop', loss=['mse', 'mse'], loss_weights=[1., 1.])\n",
        "\n",
        "model.fit(results, [latitude, longtitude], epochs=250, batch_size=16)"
      ],
      "execution_count": 0,
      "outputs": []
    },
    {
      "cell_type": "code",
      "metadata": {
        "id": "5ud3DJZPBW_4",
        "colab_type": "code",
        "colab": {}
      },
      "source": [
        "import string\n",
        "\n",
        "\n",
        "max_length = 13\n",
        "\n",
        "target = ['New Zealand']\n",
        "\n",
        "test_results = np.zeros((len(target), max_length, max(token_index.values()) + 1))\n",
        "for i, sample in enumerate(target):\n",
        "  for j, character in enumerate(sample):\n",
        "    index = token_index.get(character)\n",
        "    test_results[i, j , index] = 1."
      ],
      "execution_count": 0,
      "outputs": []
    },
    {
      "cell_type": "code",
      "metadata": {
        "id": "Hhl5fTGlg070",
        "colab_type": "code",
        "colab": {
          "base_uri": "https://localhost:8080/",
          "height": 34
        },
        "outputId": "09d57656-8a98-4859-ff49-2a38f73f8a11"
      },
      "source": [
        "c = model.predict(test_results)\n",
        "print(c)"
      ],
      "execution_count": 132,
      "outputs": [
        {
          "output_type": "stream",
          "text": [
            "[array([[-0.37207735]], dtype=float32), array([[0.6565605]], dtype=float32)]\n"
          ],
          "name": "stdout"
        }
      ]
    },
    {
      "cell_type": "markdown",
      "metadata": {
        "id": "ehXYfgi9nHBh",
        "colab_type": "text"
      },
      "source": [
        ""
      ]
    },
    {
      "cell_type": "code",
      "metadata": {
        "id": "NxVP0T5Sg2ZY",
        "colab_type": "code",
        "colab": {
          "base_uri": "https://localhost:8080/",
          "height": 34
        },
        "outputId": "c81624f8-c6a5-4e99-8cd6-047898e8f877"
      },
      "source": [
        "print(c[0][0][0]*lt_std+lt_mean, c[1][0][0]*lo_std+lo_mean)"
      ],
      "execution_count": 133,
      "outputs": [
        {
          "output_type": "stream",
          "text": [
            "6.523940594256411 60.71866637946135\n"
          ],
          "name": "stdout"
        }
      ]
    }
  ]
}