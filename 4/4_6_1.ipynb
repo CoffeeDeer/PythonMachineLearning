{
  "cells": [
    {
      "cell_type": "code",
      "metadata": {
        "id": "yifRVLnXnhwe",
        "colab_type": "code",
        "colab": {
          "base_uri": "https://localhost:8080/",
          "height": 34
        },
        "outputId": "1d664099-2a28-4a42-8de7-645145ca857e"
      },
      "source": [
        "import pandas as pd\n",
        "import numpy as np\n",
        "\n",
        "df_wine = pd.read_csv('https://archive.ics.uci.edu/ml/machine-learning-databases/wine/wine.data', header=None)\n",
        "\n",
        "df_wine.columns = ['Class label', 'Alcohol', 'Malic acid', 'Ash',\n",
        "                   'Alcalinity of ash', 'Magnesium', 'Total phenols',\n",
        "                   'Flavanoids', 'Nonflavanoid phenols', 'Proanthocyanins',\n",
        "                   'Color intensity', 'Hue', 'OD280/OD315 of diluted wines',\n",
        "                   'Proline']\n",
        "\n",
        "print('class label', np.unique(df_wine['Class label']))"
      ],
      "execution_count": 22,
      "outputs": [
        {
          "output_type": "stream",
          "text": [
            "class label [1 2 3]\n"
          ],
          "name": "stdout"
        }
      ]
    },
    {
      "cell_type": "code",
      "metadata": {
        "id": "QWmNtp0EniIo",
        "colab_type": "code",
        "colab": {}
      },
      "source": [
        "from sklearn.model_selection import train_test_split\n",
        "# y = Class label , X = other data\n",
        "X, y = df_wine.iloc[:, 1:].values, df_wine.iloc[:, 0].values\n",
        "\n",
        "X_train, X_test, y_train, y_test = train_test_split(X, y, test_size=0.3, random_state=0, stratify=y)"
      ],
      "execution_count": 0,
      "outputs": []
    },
    {
      "cell_type": "code",
      "metadata": {
        "id": "nlk-6C0mniiY",
        "colab_type": "code",
        "colab": {}
      },
      "source": [
        "from sklearn.preprocessing import StandardScaler\n",
        "\n",
        "stdsc = StandardScaler()\n",
        "X_train_std = stdsc.fit_transform(X_train)\n",
        "X_test_std = stdsc.transform(X_test)"
      ],
      "execution_count": 0,
      "outputs": []
    },
    {
      "cell_type": "code",
      "metadata": {
        "id": "NFipXnmWmIGu",
        "colab_type": "code",
        "colab": {
          "base_uri": "https://localhost:8080/",
          "height": 102
        },
        "outputId": "63db6b91-46f3-4e44-dc83-b712b662af8c"
      },
      "source": [
        "from sklearn.ensemble import RandomForestClassifier\n",
        "\n",
        "feat_labels = df_wine.columns[1:]\n",
        "\n",
        "forest = RandomForestClassifier(n_estimators=500, random_state=1)\n",
        "\n",
        "forest.fit(X_train, y_train)\n",
        "importances = forest.feature_importances_\n",
        "\n",
        "print(importances)\n",
        "\n",
        "indices = np.argsort(importances)[::-1]\n",
        "print(np.argsort(importances))\n",
        "print(indices)"
      ],
      "execution_count": 25,
      "outputs": [
        {
          "output_type": "stream",
          "text": [
            "[0.11852942 0.02564836 0.01327854 0.02236594 0.03135708 0.05087243\n",
            " 0.17475098 0.01335393 0.02556988 0.1439199  0.058739   0.13616194\n",
            " 0.1854526 ]\n",
            "[ 2  7  3  8  1  4  5 10  0 11  9  6 12]\n",
            "[12  6  9 11  0 10  5  4  1  8  3  7  2]\n"
          ],
          "name": "stdout"
        }
      ]
    },
    {
      "cell_type": "code",
      "metadata": {
        "id": "NBuhbTXqnnrB",
        "colab_type": "code",
        "colab": {
          "base_uri": "https://localhost:8080/",
          "height": 238
        },
        "outputId": "27f9b628-80dd-4dff-9c7f-237f0fe7df51"
      },
      "source": [
        "for f in range(X_train.shape[1]):\n",
        "  print(\"%2d) %-*s %f\" % (f+1, 30, feat_labels[indices[f]], importances[indices[f]]))"
      ],
      "execution_count": 26,
      "outputs": [
        {
          "output_type": "stream",
          "text": [
            " 1) Proline                        0.185453\n",
            " 2) Flavanoids                     0.174751\n",
            " 3) Color intensity                0.143920\n",
            " 4) OD280/OD315 of diluted wines   0.136162\n",
            " 5) Alcohol                        0.118529\n",
            " 6) Hue                            0.058739\n",
            " 7) Total phenols                  0.050872\n",
            " 8) Magnesium                      0.031357\n",
            " 9) Malic acid                     0.025648\n",
            "10) Proanthocyanins                0.025570\n",
            "11) Alcalinity of ash              0.022366\n",
            "12) Nonflavanoid phenols           0.013354\n",
            "13) Ash                            0.013279\n"
          ],
          "name": "stdout"
        }
      ]
    },
    {
      "cell_type": "code",
      "metadata": {
        "id": "koFEgHbsoNPo",
        "colab_type": "code",
        "colab": {
          "base_uri": "https://localhost:8080/",
          "height": 297
        },
        "outputId": "0f82c56d-fcb4-4327-9e74-24907576fcd5"
      },
      "source": [
        "import matplotlib.pyplot as plt\n",
        "plt.title('Feature Importance')\n",
        "plt.bar(range(X_train.shape[1]), importances[indices], align='center')\n",
        "plt.xticks(range(X_train.shape[1]), feat_labels[indices], rotation=90)\n",
        "\n",
        "plt.xlim([-1, X_train.shape[1]])\n",
        "plt.tight_layout()\n",
        "plt.show()"
      ],
      "execution_count": 27,
      "outputs": [
        {
          "output_type": "display_data",
          "data": {
            "image/png": "[encoded data removed]",
            "text/plain": [
              "<Figure size 432x288 with 1 Axes>"
            ]
          },
          "metadata": {
            "tags": [],
            "needs_background": "light"
          }
        }
      ]
    },
    {
      "cell_type": "code",
      "metadata": {
        "id": "OmRz9Bb8pAOB",
        "colab_type": "code",
        "colab": {}
      },
      "source": [
        ""
      ],
      "execution_count": 0,
      "outputs": []
    }
  ],
  "metadata": {
    "colab": {
      "name": "4-6-1.ipynb",
      "provenance": []
    },
    "kernelspec": {
      "name": "python3",
      "display_name": "Python 3"
    }
  },
  "nbformat": 4,
  "nbformat_minor": 0
}