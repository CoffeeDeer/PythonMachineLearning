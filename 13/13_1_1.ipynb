{
  "nbformat": 4,
  "nbformat_minor": 0,
  "metadata": {
    "colab": {
      "name": "13-1-1.ipynb",
      "provenance": [],
      "collapsed_sections": []
    },
    "kernelspec": {
      "name": "python3",
      "display_name": "Python 3"
    }
  },
  "cells": [
    {
      "cell_type": "code",
      "metadata": {
        "id": "l92N2ip2S2PM",
        "colab_type": "code",
        "colab": {
          "base_uri": "https://localhost:8080/",
          "height": 139
        },
        "outputId": "1b86b4f9-15e1-4933-ba1c-475990a548d8"
      },
      "source": [
        "import tensorflow as tf\n",
        "\n",
        "g = tf.Graph()\n",
        "with g.as_default():\n",
        "  x = tf.compat.v1.placeholder(dtype=tf.float32, shape=(None), name='x')\n",
        "  w = tf.Variable(2.0, name='weight')\n",
        "  b = tf.Variable(0.7, name='bias')\n",
        "\n",
        "  z = w * x + b\n",
        "\n",
        "  init = tf.compat.v1.global_variables_initializer()\n",
        "\n",
        "with tf.compat.v1.Session(graph=g) as sess:\n",
        "  sess.run(init)\n",
        "\n",
        "  for t in [1.0, 0.6, -1.8]:\n",
        "    print('x= %4.1f --> z= %4.1f' %(t, sess.run(z, feed_dict={x:t})))"
      ],
      "execution_count": 1,
      "outputs": [
        {
          "output_type": "stream",
          "text": [
            "WARNING:tensorflow:From /usr/local/lib/python3.6/dist-packages/tensorflow/python/ops/resource_variable_ops.py:1666: calling BaseResourceVariable.__init__ (from tensorflow.python.ops.resource_variable_ops) with constraint is deprecated and will be removed in a future version.\n",
            "Instructions for updating:\n",
            "If using Keras pass *_constraint arguments to layers.\n",
            "x=  1.0 --> z=  2.7\n",
            "x=  0.6 --> z=  1.9\n",
            "x= -1.8 --> z= -2.9\n"
          ],
          "name": "stdout"
        }
      ]
    },
    {
      "cell_type": "code",
      "metadata": {
        "id": "syjNyM--WMaF",
        "colab_type": "code",
        "colab": {
          "base_uri": "https://localhost:8080/",
          "height": 34
        },
        "outputId": "f65b1ce1-778c-4a4a-aec8-efb928c90625"
      },
      "source": [
        "with tf.compat.v1.Session(graph=g) as sess:\n",
        "  sess.run(init)\n",
        "  print(sess.run(z, feed_dict={x:[1., 2., 3.]}))"
      ],
      "execution_count": 2,
      "outputs": [
        {
          "output_type": "stream",
          "text": [
            "[2.7 4.7 6.7]\n"
          ],
          "name": "stdout"
        }
      ]
    },
    {
      "cell_type": "code",
      "metadata": {
        "id": "ErpTTXqQY4RD",
        "colab_type": "code",
        "colab": {
          "base_uri": "https://localhost:8080/",
          "height": 34
        },
        "outputId": "6ee69b20-bf32-46e5-d653-75bd6676c96f"
      },
      "source": [
        "print(z)"
      ],
      "execution_count": 3,
      "outputs": [
        {
          "output_type": "stream",
          "text": [
            "Tensor(\"add:0\", dtype=float32)\n"
          ],
          "name": "stdout"
        }
      ]
    },
    {
      "cell_type": "code",
      "metadata": {
        "id": "JFvgi6SMY5--",
        "colab_type": "code",
        "colab": {
          "base_uri": "https://localhost:8080/",
          "height": 68
        },
        "outputId": "c3479347-a861-4f63-8a83-24d2c180eb7f"
      },
      "source": [
        "w = tf.Variable(2.0, name='weight')\n",
        "b = tf.Variable(0.7, name='bias')\n",
        "\n",
        "for x in [1.0, 0.6, -1.8]:\n",
        "  z = w * x + b\n",
        "  print('x= ', x, ' --> z= ', z)"
      ],
      "execution_count": 5,
      "outputs": [
        {
          "output_type": "stream",
          "text": [
            "x=  1.0  --> z=  tf.Tensor(2.7, shape=(), dtype=float32)\n",
            "x=  0.6  --> z=  tf.Tensor(1.9000001, shape=(), dtype=float32)\n",
            "x=  -1.8  --> z=  tf.Tensor(-2.8999999, shape=(), dtype=float32)\n"
          ],
          "name": "stdout"
        }
      ]
    },
    {
      "cell_type": "code",
      "metadata": {
        "id": "7gF-CarrZNkN",
        "colab_type": "code",
        "colab": {
          "base_uri": "https://localhost:8080/",
          "height": 34
        },
        "outputId": "1ae9b8d6-1d6c-4c97-b9b5-eab8f607a356"
      },
      "source": [
        "print(z)"
      ],
      "execution_count": 6,
      "outputs": [
        {
          "output_type": "stream",
          "text": [
            "tf.Tensor(-2.8999999, shape=(), dtype=float32)\n"
          ],
          "name": "stdout"
        }
      ]
    },
    {
      "cell_type": "code",
      "metadata": {
        "id": "aJupNoXlZcFY",
        "colab_type": "code",
        "colab": {
          "base_uri": "https://localhost:8080/",
          "height": 136
        },
        "outputId": "56957e45-53fa-4865-aae9-04522f986f62"
      },
      "source": [
        "import tensorflow as tf\n",
        "import numpy as np\n",
        "\n",
        "x_array = np.arange(18).reshape(3, 2, 3)\n",
        "x2 = tf.reshape(x_array, shape=(-1, 6))\n",
        "\n",
        "xsum = tf.reduce_sum(x2, axis=0)\n",
        "\n",
        "xmean = tf.reduce_mean(x2, axis=0)\n",
        "\n",
        "print('input size: ', x_array.shape)\n",
        "print('changed input: \\n', x2.numpy())\n",
        "print('sum of columns: ', xsum.numpy())\n",
        "print('avg of columns: ', xmean.numpy())"
      ],
      "execution_count": 9,
      "outputs": [
        {
          "output_type": "stream",
          "text": [
            "input size:  (3, 2, 3)\n",
            "changed input: \n",
            " [[ 0  1  2  3  4  5]\n",
            " [ 6  7  8  9 10 11]\n",
            " [12 13 14 15 16 17]]\n",
            "sum of columns:  [18 21 24 27 30 33]\n",
            "avg of columns:  [ 6  7  8  9 10 11]\n"
          ],
          "name": "stdout"
        }
      ]
    },
    {
      "cell_type": "code",
      "metadata": {
        "id": "uCZEnQ7_bieG",
        "colab_type": "code",
        "colab": {}
      },
      "source": [
        "import tensorflow as tf\n",
        "import numpy as np\n",
        " \n",
        "X_train = np.arange(10).reshape((10, 1))\n",
        "y_train = np.array([1.0, 1.3, 3.1,\n",
        "                    2.0, 5.0, 6.3, \n",
        "                    6.6, 7.4, 8.0, \n",
        "                    9.0])"
      ],
      "execution_count": 16,
      "outputs": []
    },
    {
      "cell_type": "code",
      "metadata": {
        "id": "atm3MaHBb0RI",
        "colab_type": "code",
        "colab": {}
      },
      "source": [
        "class TfLinreg(object):\n",
        "    def __init__(self, learning_rate=0.01):\n",
        "        self.w = tf.Variable(tf.zeros(shape=(1)))\n",
        "        self.b = tf.Variable(tf.zeros(shape=(1)))\n",
        "        self.optimizer = tf.keras.optimizers.SGD(lr=learning_rate)\n",
        "        \n",
        "    def fit(self, X, y, num_epochs=10):\n",
        "        training_costs = []\n",
        "        for step in range(num_epochs):\n",
        "            with tf.GradientTape() as tape:\n",
        "                z_net = self.w * X + self.b\n",
        "                z_net = tf.reshape(z_net, [-1])\n",
        "                sqr_errors = tf.square(y - z_net)\n",
        "                mean_cost = tf.reduce_mean(sqr_errors)\n",
        "            grads = tape.gradient(mean_cost, [self.w, self.b])\n",
        "            self.optimizer.apply_gradients(zip(grads, [self.w, self.b]))\n",
        "            training_costs.append(mean_cost.numpy())\n",
        "        return training_costs\n",
        "    \n",
        "    def predict(self, X):\n",
        "      return self.w * X + self.b"
      ],
      "execution_count": 17,
      "outputs": []
    },
    {
      "cell_type": "code",
      "metadata": {
        "id": "Ocalxdz4b3XV",
        "colab_type": "code",
        "colab": {}
      },
      "source": [
        "lrmodel = TfLinreg()"
      ],
      "execution_count": 18,
      "outputs": []
    },
    {
      "cell_type": "code",
      "metadata": {
        "id": "dy2-_bPfb43L",
        "colab_type": "code",
        "colab": {}
      },
      "source": [
        "training_costs = lrmodel.fit(X_train, y_train)"
      ],
      "execution_count": 19,
      "outputs": []
    },
    {
      "cell_type": "code",
      "metadata": {
        "id": "m9Jhtaekb9IT",
        "colab_type": "code",
        "colab": {
          "base_uri": "https://localhost:8080/",
          "height": 297
        },
        "outputId": "9009fba5-2043-4e19-9359-dbf386d4e5a3"
      },
      "source": [
        "import matplotlib.pyplot as plt\n",
        "\n",
        "plt.plot(range(1,len(training_costs) + 1), training_costs)\n",
        "plt.tight_layout()\n",
        "plt.xlabel('Epoch')\n",
        "plt.ylabel('Training Cost')\n",
        "plt.tight_layout()\n",
        "plt.show()"
      ],
      "execution_count": 20,
      "outputs": [
        {
          "output_type": "display_data",
          "data": {
            "image/png": "[encoded data removed]",
            "text/plain": [
              "<Figure size 432x288 with 1 Axes>"
            ]
          },
          "metadata": {
            "tags": [],
            "needs_background": "light"
          }
        }
      ]
    },
    {
      "cell_type": "code",
      "metadata": {
        "id": "8hD11c7_b_hH",
        "colab_type": "code",
        "colab": {
          "base_uri": "https://localhost:8080/",
          "height": 297
        },
        "outputId": "ad4ac547-98fd-496c-8c07-cd68094f1948"
      },
      "source": [
        "plt.scatter(X_train, y_train, marker='s', s=50, label='Training Data')\n",
        "plt.plot(range(X_train.shape[0]), \n",
        "         lrmodel.predict(X_train),\n",
        "         color='gray', marker='o', \n",
        "         markersize=6, linewidth=3,\n",
        "         label='LinReg Model')\n",
        "plt.xlabel('x')\n",
        "plt.ylabel('y')\n",
        "plt.legend()\n",
        "plt.tight_layout()\n",
        "plt.show()"
      ],
      "execution_count": 21,
      "outputs": [
        {
          "output_type": "display_data",
          "data": {
            "image/png": "[encoded data removed]",
            "text/plain": [
              "<Figure size 432x288 with 1 Axes>"
            ]
          },
          "metadata": {
            "tags": [],
            "needs_background": "light"
          }
        }
      ]
    },
    {
      "cell_type": "code",
      "metadata": {
        "id": "rKGOYoe0cF0E",
        "colab_type": "code",
        "colab": {}
      },
      "source": [
        ""
      ],
      "execution_count": null,
      "outputs": []
    }
  ]
}