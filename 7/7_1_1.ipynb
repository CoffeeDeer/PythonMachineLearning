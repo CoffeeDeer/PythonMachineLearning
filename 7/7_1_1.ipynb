{
  "nbformat": 4,
  "nbformat_minor": 0,
  "metadata": {
    "colab": {
      "name": "7-1-1.ipynb",
      "provenance": [],
      "collapsed_sections": []
    },
    "kernelspec": {
      "name": "python3",
      "display_name": "Python 3"
    }
  },
  "cells": [
    {
      "cell_type": "code",
      "metadata": {
        "id": "W7oXZUA9qCQw",
        "colab_type": "code",
        "colab": {
          "base_uri": "https://localhost:8080/",
          "height": 34
        },
        "outputId": "58a3c37f-aa5a-4239-c1ec-246093366f21"
      },
      "source": [
        "from scipy.special import comb\n",
        "import math\n",
        "\n",
        "def ensemble_error(n_classifier, error):\n",
        "  k_start = int(math.ceil(n_classifier / 2.))\n",
        "  probs = [comb(n_classifier, k) * error**k * (1-error)**(n_classifier-k) for k in range(k_start, n_classifier + 1)]\n",
        "\n",
        "  return sum(probs)\n",
        "\n",
        "ensemble_error(n_classifier=11, error=0.25)"
      ],
      "execution_count": 1,
      "outputs": [
        {
          "output_type": "execute_result",
          "data": {
            "text/plain": [
              "0.03432750701904297"
            ]
          },
          "metadata": {
            "tags": []
          },
          "execution_count": 1
        }
      ]
    },
    {
      "cell_type": "code",
      "metadata": {
        "id": "INW1XV61skiB",
        "colab_type": "code",
        "colab": {
          "base_uri": "https://localhost:8080/",
          "height": 279
        },
        "outputId": "e981a9a0-23e8-4368-cef4-eb7a08971e43"
      },
      "source": [
        "import numpy as np\n",
        "import matplotlib.pyplot as plt\n",
        "\n",
        "error_range = np.arange(0.0, 1.01, 0.01)\n",
        "ens_errors = [ensemble_error(n_classifier=11, error=error) for error in error_range]\n",
        "\n",
        "plt.plot(error_range, ens_errors, label = 'Ensemble error', linewidth=2)\n",
        "plt.plot(error_range, error_range, linestyle='--', label='base error', linewidth=2)\n",
        "\n",
        "plt.xlabel('base error')\n",
        "plt.ylabel('base/Ensemble error')\n",
        "plt.legend(loc='upper left')\n",
        "plt.grid(alpha=0.5)\n",
        "plt.show()"
      ],
      "execution_count": 2,
      "outputs": [
        {
          "output_type": "display_data",
          "data": {
            "image/png": "[encoded data removed]",
            "text/plain": [
              "<Figure size 432x288 with 1 Axes>"
            ]
          },
          "metadata": {
            "tags": [],
            "needs_background": "light"
          }
        }
      ]
    },
    {
      "cell_type": "code",
      "metadata": {
        "id": "CPBBSmkWyquN",
        "colab_type": "code",
        "colab": {}
      },
      "source": [
        "from sklearn.base import BaseEstimator\n",
        "from sklearn.base import ClassifierMixin\n",
        "from sklearn.preprocessing import LabelEncoder\n",
        "from sklearn.externals import six\n",
        "from sklearn.base import clone\n",
        "from sklearn.pipeline import _name_estimators\n",
        "import numpy as np\n",
        "import operator\n",
        "\n",
        "\n",
        "class MajorityVoteClassifier(BaseEstimator, \n",
        "                             ClassifierMixin):\n",
        "    \"\"\"다수결 투표 앙상블 분류기\n",
        "\n",
        "    매개변수\n",
        "    ----------\n",
        "    classifiers : 배열 타입, 크기 = [n_classifiers]\n",
        "      앙상블에 사용할 분류기\n",
        "\n",
        "    vote : str, {'classlabel', 'probability'}\n",
        "      기본값: 'classlabel'\n",
        "      'classlabel'이면 예측은 다수인 클래스 레이블의 인덱스가 됩니다.\n",
        "      'probability'이면 확률 합이 가장 큰 인덱스로 \n",
        "      클래스 레이블을 예측합니다(보정된 분류기에 추천합니다).\n",
        "\n",
        "    weights : 배열 타입, 크기 = [n_classifiers]\n",
        "      선택사항, 기본값: None\n",
        "      `int` 또는 `float` 값의 리스트가 주어지면 분류기가 이 중요도로 가중치됩니다.\n",
        "      `weights=None`이면 동일하게 취급합니다.\n",
        "\n",
        "    \"\"\"\n",
        "    def __init__(self, classifiers, vote='classlabel', weights=None):\n",
        "\n",
        "        self.classifiers = classifiers\n",
        "        self.named_classifiers = {key: value for key, value\n",
        "                                  in _name_estimators(classifiers)}\n",
        "        self.vote = vote\n",
        "        self.weights = weights\n",
        "\n",
        "    def fit(self, X, y):\n",
        "        \"\"\"분류기를 학습합니다.\n",
        "\n",
        "        매개변수\n",
        "        ----------\n",
        "        X : {배열 타입, 희소 행렬},\n",
        "            크기 = [n_samples, n_features]\n",
        "            훈련 샘플 행렬\n",
        "\n",
        "        y : 배열 타입, 크기 = [n_samples]\n",
        "            타깃 클래스 레이블 벡터\n",
        "\n",
        "        반환값\n",
        "        -------\n",
        "        self : 객체\n",
        "\n",
        "        \"\"\"\n",
        "        if self.vote not in ('probability', 'classlabel'):\n",
        "            raise ValueError(\"vote는 'probability' 또는 'classlabel'이어야 합니다.\"\n",
        "                             \"; (vote=%r)이 입력되었습니다.\"\n",
        "                             % self.vote)\n",
        "\n",
        "        if self.weights and len(self.weights) != len(self.classifiers):\n",
        "            raise ValueError('분류기 개수와 가중치 개수는 동일해야 합니다.'\n",
        "                             '; %d개의 가중치와, %d개의 분류기가 입력되었습니다.'\n",
        "                             % (len(self.weights), len(self.classifiers)))\n",
        "\n",
        "        # self.predict 메서드에서 np.argmax를 호출할 때 \n",
        "        # 클래스 레이블이 0부터 시작되어야 하므로 LabelEncoder를 사용합니다.\n",
        "        self.lablenc_ = LabelEncoder()\n",
        "        self.lablenc_.fit(y)\n",
        "        self.classes_ = self.lablenc_.classes_\n",
        "        self.classifiers_ = []\n",
        "        for clf in self.classifiers:\n",
        "            fitted_clf = clone(clf).fit(X, self.lablenc_.transform(y))\n",
        "            self.classifiers_.append(fitted_clf)\n",
        "        return self\n",
        "\n",
        "    def predict(self, X):\n",
        "        \"\"\"X에 대한 클래스 레이블을 예측합니다.\n",
        "\n",
        "        매개변수\n",
        "        ----------\n",
        "        X : {배열 타입, 희소 행렬},\n",
        "            크기 = [n_samples, n_features]\n",
        "            샘플 데이터 행렬\n",
        "\n",
        "        반환값\n",
        "        ----------\n",
        "        maj_vote : 배열 타입, 크기 = [n_samples]\n",
        "            예측된 클래스 레이블\n",
        "            \n",
        "        \"\"\"\n",
        "        if self.vote == 'probability':\n",
        "            maj_vote = np.argmax(self.predict_proba(X), axis=1)\n",
        "        else:  # 'classlabel' 투표\n",
        "\n",
        "            #  clf.predict 메서드를 사용해 결과를 모읍니다.\n",
        "            predictions = np.asarray([clf.predict(X)\n",
        "                                      for clf in self.classifiers_]).T\n",
        "\n",
        "            maj_vote = np.apply_along_axis(\n",
        "                                      lambda x:\n",
        "                                      np.argmax(np.bincount(x,\n",
        "                                                weights=self.weights)),\n",
        "                                      axis=1,\n",
        "                                      arr=predictions)\n",
        "        maj_vote = self.lablenc_.inverse_transform(maj_vote)\n",
        "        return maj_vote\n",
        "\n",
        "    def predict_proba(self, X):\n",
        "        \"\"\"X에 대한 클래스 확률을 예측합니다.\n",
        "\n",
        "        매개변수\n",
        "        ----------\n",
        "        X : {배열 타입, 희소 행렬},\n",
        "            크기 = [n_samples, n_features]\n",
        "            n_samples는 샘플의 개수이고 n_features는 특성의 개수인\n",
        "            샘플 데이터 행렬\n",
        "\n",
        "        반환값\n",
        "        ----------\n",
        "        avg_proba : 배열 타입,\n",
        "            크기 = [n_samples, n_classes]\n",
        "            샘플마다 가중치가 적용된 클래스의 평균 확률\n",
        "\n",
        "        \"\"\"\n",
        "        probas = np.asarray([clf.predict_proba(X)\n",
        "                             for clf in self.classifiers_])\n",
        "        avg_proba = np.average(probas, axis=0, weights=self.weights)\n",
        "        return avg_proba\n",
        "\n",
        "    def get_params(self, deep=True):\n",
        "        \"\"\"GridSearch를 위해서 분류기의 매개변수 이름을 반환합니다\"\"\"\n",
        "        if not deep:\n",
        "            return super(MajorityVoteClassifier, self).get_params(deep=False)\n",
        "        else:\n",
        "            out = self.named_classifiers.copy()\n",
        "            for name, step in six.iteritems(self.named_classifiers):\n",
        "                for key, value in six.iteritems(step.get_params(deep=True)):\n",
        "                    out['%s__%s' % (name, key)] = value\n",
        "            return out"
      ],
      "execution_count": 31,
      "outputs": []
    },
    {
      "cell_type": "code",
      "metadata": {
        "id": "Yth5ag4g83OM",
        "colab_type": "code",
        "colab": {}
      },
      "source": [
        "from sklearn import datasets\n",
        "from sklearn.model_selection import train_test_split\n",
        "from sklearn.preprocessing import StandardScaler\n",
        "from sklearn.preprocessing import LabelEncoder\n",
        "\n",
        "iris = datasets.load_iris()\n",
        "X, y = iris.data[50:, [1, 2]], iris.target[50:]\n",
        "\n",
        "le = LabelEncoder()\n",
        "y = le.fit_transform(y)\n",
        "\n",
        "X_train, X_test, y_train, y_test = train_test_split(X, y, test_size=0.5, random_state=1, stratify=y)"
      ],
      "execution_count": 5,
      "outputs": []
    },
    {
      "cell_type": "code",
      "metadata": {
        "id": "pkgjI2PF-Bxl",
        "colab_type": "code",
        "colab": {
          "base_uri": "https://localhost:8080/",
          "height": 102
        },
        "outputId": "3b36c652-cf7c-4141-8df3-53a1b1bf1bdc"
      },
      "source": [
        "import numpy as np\n",
        "from sklearn.linear_model import LogisticRegression\n",
        "from sklearn.tree import DecisionTreeClassifier\n",
        "from sklearn.neighbors import KNeighborsClassifier \n",
        "from sklearn.pipeline import Pipeline\n",
        "from sklearn.model_selection import cross_val_score\n",
        "\n",
        "clf1 = LogisticRegression(solver='liblinear',\n",
        "                          penalty='l2', \n",
        "                          C=0.001,\n",
        "                          random_state=1)\n",
        "\n",
        "clf2 = DecisionTreeClassifier(max_depth=1,\n",
        "                              criterion='entropy',\n",
        "                              random_state=0)\n",
        "\n",
        "clf3 = KNeighborsClassifier(n_neighbors=1,\n",
        "                            p=2,\n",
        "                            metric='minkowski')\n",
        "\n",
        "pipe1 = Pipeline([['sc', StandardScaler()],\n",
        "                  ['clf', clf1]])\n",
        "pipe3 = Pipeline([['sc', StandardScaler()],\n",
        "                  ['clf', clf3]])\n",
        "\n",
        "clf_labels = ['Logistic regression', 'Decision tree', 'KNN']\n",
        "\n",
        "print('10-겹 교차 검증:\\n')\n",
        "for clf, label in zip([pipe1, clf2, pipe3], clf_labels):\n",
        "    scores = cross_val_score(estimator=clf,\n",
        "                             X=X_train,\n",
        "                             y=y_train,\n",
        "                             cv=10,\n",
        "                             scoring='roc_auc')\n",
        "    print(\"ROC AUC: %0.2f (+/- %0.2f) [%s]\"\n",
        "          % (scores.mean(), scores.std(), label))"
      ],
      "execution_count": 6,
      "outputs": [
        {
          "output_type": "stream",
          "text": [
            "10-겹 교차 검증:\n",
            "\n",
            "ROC AUC: 0.92 (+/- 0.15) [Logistic regression]\n",
            "ROC AUC: 0.87 (+/- 0.18) [Decision tree]\n",
            "ROC AUC: 0.85 (+/- 0.13) [KNN]\n"
          ],
          "name": "stdout"
        }
      ]
    },
    {
      "cell_type": "code",
      "metadata": {
        "id": "c06JDWYk-1Rz",
        "colab_type": "code",
        "colab": {
          "base_uri": "https://localhost:8080/",
          "height": 85
        },
        "outputId": "843078b9-b350-40ba-8160-4df4098b939b"
      },
      "source": [
        "# 다수결 투표 (클래스 레이블 카운트)\n",
        "\n",
        "mv_clf = MajorityVoteClassifier(classifiers=[pipe1, clf2, pipe3])\n",
        "\n",
        "clf_labels += ['Majority voting']\n",
        "all_clf = [pipe1, clf2, pipe3, mv_clf]\n",
        "\n",
        "for clf, label in zip(all_clf, clf_labels):\n",
        "    scores = cross_val_score(estimator=clf,\n",
        "                             X=X_train,\n",
        "                             y=y_train,\n",
        "                             cv=10,\n",
        "                             scoring='roc_auc')\n",
        "    print(\"ROC AUC: %0.2f (+/- %0.2f) [%s]\"\n",
        "          % (scores.mean(), scores.std(), label))"
      ],
      "execution_count": 32,
      "outputs": [
        {
          "output_type": "stream",
          "text": [
            "ROC AUC: 0.92 (+/- 0.15) [Logistic regression]\n",
            "ROC AUC: 0.87 (+/- 0.18) [Decision tree]\n",
            "ROC AUC: 0.85 (+/- 0.13) [KNN]\n",
            "ROC AUC: 0.98 (+/- 0.05) [Majority voting]\n"
          ],
          "name": "stdout"
        }
      ]
    },
    {
      "cell_type": "code",
      "metadata": {
        "id": "VemHEgK_-3k5",
        "colab_type": "code",
        "colab": {}
      },
      "source": [
        ""
      ],
      "execution_count": null,
      "outputs": []
    }
  ]
}