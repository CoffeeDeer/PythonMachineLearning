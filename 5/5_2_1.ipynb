{
  "nbformat": 4,
  "nbformat_minor": 0,
  "metadata": {
    "colab": {
      "name": "5-2-1.ipynb",
      "provenance": [],
      "collapsed_sections": []
    },
    "kernelspec": {
      "name": "python3",
      "display_name": "Python 3"
    }
  },
  "cells": [
    {
      "cell_type": "code",
      "metadata": {
        "id": "K4dDVb2GshlI",
        "colab_type": "code",
        "colab": {
          "base_uri": "https://localhost:8080/",
          "height": 34
        },
        "outputId": "e3ab9892-d113-498a-960a-b07f7ab2c7c9"
      },
      "source": [
        "import pandas as pd\n",
        "import numpy as np\n",
        "\n",
        "df_wine = pd.read_csv('https://archive.ics.uci.edu/ml/machine-learning-databases/wine/wine.data', header=None)\n",
        "\n",
        "df_wine.columns = ['Class label', 'Alcohol', 'Malic acid', 'Ash',\n",
        "                   'Alcalinity of ash', 'Magnesium', 'Total phenols',\n",
        "                   'Flavanoids', 'Nonflavanoid phenols', 'Proanthocyanins',\n",
        "                   'Color intensity', 'Hue', 'OD280/OD315 of diluted wines',\n",
        "                   'Proline']\n",
        "\n",
        "print('class label', np.unique(df_wine['Class label']))"
      ],
      "execution_count": 1,
      "outputs": [
        {
          "output_type": "stream",
          "text": [
            "class label [1 2 3]\n"
          ],
          "name": "stdout"
        }
      ]
    },
    {
      "cell_type": "code",
      "metadata": {
        "id": "ta8r_tx4skUL",
        "colab_type": "code",
        "colab": {}
      },
      "source": [
        "from sklearn.model_selection import train_test_split\n",
        "# y = Class label , X = other data\n",
        "X, y = df_wine.iloc[:, 1:].values, df_wine.iloc[:, 0].values\n",
        "\n",
        "X_train, X_test, y_train, y_test = train_test_split(X, y, test_size=0.3, random_state=0, stratify=y)"
      ],
      "execution_count": 0,
      "outputs": []
    },
    {
      "cell_type": "code",
      "metadata": {
        "id": "VJgr0ypKsnHe",
        "colab_type": "code",
        "colab": {}
      },
      "source": [
        "from sklearn.preprocessing import StandardScaler\n",
        "\n",
        "stdsc = StandardScaler()\n",
        "X_train_std = stdsc.fit_transform(X_train)\n",
        "X_test_std = stdsc.transform(X_test)"
      ],
      "execution_count": 0,
      "outputs": []
    },
    {
      "cell_type": "code",
      "metadata": {
        "id": "Qkucze_Osncb",
        "colab_type": "code",
        "colab": {
          "base_uri": "https://localhost:8080/",
          "height": 119
        },
        "outputId": "98bb1da6-dc01-4bf3-ce8a-19db62d8b175"
      },
      "source": [
        "np.set_printoptions(precision=4)\n",
        "mean_vecs = []\n",
        "\n",
        "for label in range(1, 4):\n",
        "  mean_vecs.append(np.mean(X_train_std[y_train==label], axis=0))\n",
        "  print('MX',label, ': ', mean_vecs[label-1])\n"
      ],
      "execution_count": 6,
      "outputs": [
        {
          "output_type": "stream",
          "text": [
            "MX 1 :  [ 0.9066 -0.3497  0.3201 -0.7189  0.5056  0.8807  0.9589 -0.5516  0.5416\n",
            "  0.2338  0.5897  0.6563  1.2075]\n",
            "MX 2 :  [-0.8749 -0.2848 -0.3735  0.3157 -0.3848 -0.0433  0.0635 -0.0946  0.0703\n",
            " -0.8286  0.3144  0.3608 -0.7253]\n",
            "MX 3 :  [ 0.1992  0.866   0.1682  0.4148 -0.0451 -1.0286 -1.2876  0.8287 -0.7795\n",
            "  0.9649 -1.209  -1.3622 -0.4013]\n"
          ],
          "name": "stdout"
        }
      ]
    },
    {
      "cell_type": "code",
      "metadata": {
        "id": "i9H2qbYHtJ6H",
        "colab_type": "code",
        "colab": {
          "base_uri": "https://localhost:8080/",
          "height": 34
        },
        "outputId": "bbe398cb-ce20-42e1-d008-31ef48dafab7"
      },
      "source": [
        "d = 13\n",
        "S_W = np.zeros((d, d))\n",
        "\n",
        "for label, mv in zip(range(1, 4), mean_vecs):\n",
        "  class_scatter = np.zeros((d, d))\n",
        "\n",
        "  for row in X_train_std[y_train == label]:\n",
        "    row, mv = row.reshape(d, 1), mv.reshape(d, 1)\n",
        "    class_scatter += (row - mv).dot((row - mv).T)\n",
        "  S_W += class_scatter\n",
        "print('클래스 내의 산포 행렬: ', S_W.shape[0],'x',S_W.shape[1])"
      ],
      "execution_count": 8,
      "outputs": [
        {
          "output_type": "stream",
          "text": [
            "클래스 내의 산포 행렬:  13 x 13\n"
          ],
          "name": "stdout"
        }
      ]
    },
    {
      "cell_type": "code",
      "metadata": {
        "id": "M6DaL8nBv0nf",
        "colab_type": "code",
        "colab": {
          "base_uri": "https://localhost:8080/",
          "height": 34
        },
        "outputId": "32f88657-ec85-4ba1-fb1b-57d4a716547a"
      },
      "source": [
        "print('클래스 레이블 분포: ', np.bincount(y_train)[1:])"
      ],
      "execution_count": 9,
      "outputs": [
        {
          "output_type": "stream",
          "text": [
            "클래스 레이블 분포:  [41 50 33]\n"
          ],
          "name": "stdout"
        }
      ]
    },
    {
      "cell_type": "code",
      "metadata": {
        "id": "f4eK3pcbxqFH",
        "colab_type": "code",
        "colab": {
          "base_uri": "https://localhost:8080/",
          "height": 34
        },
        "outputId": "d9130d34-78de-4ee8-de18-23e6b956a6fe"
      },
      "source": [
        "d = 13\n",
        "S_W = np.zeros((d, d))\n",
        "\n",
        "for label, mv in zip(range(1, 4), mean_vecs):\n",
        "  class_scatter = np.cov(X_train_std[y_train==label].T, bias=True)\n",
        "  S_W += class_scatter\n",
        "\n",
        "print('스케일 조정된 클래스 내의 산포 행렬: ', S_W.shape[0],'x',S_W.shape[1])"
      ],
      "execution_count": 10,
      "outputs": [
        {
          "output_type": "stream",
          "text": [
            "스케일 조정된 클래스 내의 산포 행렬:  13 x 13\n"
          ],
          "name": "stdout"
        }
      ]
    },
    {
      "cell_type": "code",
      "metadata": {
        "id": "xvC1CmRmyIqu",
        "colab_type": "code",
        "colab": {
          "base_uri": "https://localhost:8080/",
          "height": 34
        },
        "outputId": "f519652e-8135-4076-c8b5-3d38e4ff9807"
      },
      "source": [
        "mean_overall = np.mean(X_train_std, axis=0)\n",
        "mean_overall = mean_overall.reshape(d, 1)\n",
        "d = 13\n",
        "S_B = np.zeros((d, d))\n",
        "\n",
        "for i, mean_vec in enumerate(mean_vecs):\n",
        "  n = X_train[y_train == i + 1, :].shape[0]\n",
        "  mean_vec = mean_vec.reshape(d, 1)\n",
        "  S_B += n * (mean_vec - mean_overall).dot((mean_vec - mean_overall).T)\n",
        "\n",
        "print('클래스 간의 산포 행렬: ', S_W.shape[0],'x',S_W.shape[1])\n"
      ],
      "execution_count": 11,
      "outputs": [
        {
          "output_type": "stream",
          "text": [
            "클래스 간의 산포 행렬:  13 x 13\n"
          ],
          "name": "stdout"
        }
      ]
    },
    {
      "cell_type": "code",
      "metadata": {
        "id": "Wi2pN3EXytiu",
        "colab_type": "code",
        "colab": {
          "base_uri": "https://localhost:8080/",
          "height": 272
        },
        "outputId": "7894dac3-8e04-402c-e101-de7e19d0bc20"
      },
      "source": [
        "eigen_vals, eigen_vecs = np.linalg.eig(np.linalg.inv(S_W).dot(S_B))\n",
        "\n",
        "eigen_pairs = [(np.abs(eigen_vals[i]), eigen_vecs[:, i]) for i in range(len(eigen_vals))]\n",
        "eigen_pairs = sorted(eigen_pairs, key=lambda k: k[0], reverse=True)\n",
        "\n",
        "print('내림차순의 고윳값 \\n')\n",
        "for eigen_val in eigen_pairs:\n",
        "  print(eigen_val[0])"
      ],
      "execution_count": 12,
      "outputs": [
        {
          "output_type": "stream",
          "text": [
            "내림차순의 고윳값 \n",
            "\n",
            "358.0042070133659\n",
            "177.07768640666225\n",
            "2.842170943040401e-14\n",
            "2.2513016031041443e-14\n",
            "1.800270811737676e-14\n",
            "1.800270811737676e-14\n",
            "1.578515719598725e-14\n",
            "1.3662940131811948e-14\n",
            "1.3662940131811948e-14\n",
            "9.798790178197109e-15\n",
            "9.798790178197109e-15\n",
            "2.90135780637586e-15\n",
            "9.905045812450375e-16\n"
          ],
          "name": "stdout"
        }
      ]
    },
    {
      "cell_type": "code",
      "metadata": {
        "id": "9VABhgjyz0oD",
        "colab_type": "code",
        "colab": {
          "base_uri": "https://localhost:8080/",
          "height": 297
        },
        "outputId": "9ff1dc9e-5820-4346-8f93-5fe470e99e64"
      },
      "source": [
        "tot = sum(eigen_vals.real)\n",
        "discr = [(i / tot) for i in sorted(eigen_vals.real, reverse=True)]\n",
        "dum_discr = np.cumsum(discr)\n",
        "\n",
        "import matplotlib.pyplot as plt\n",
        "\n",
        "plt.bar(range(1, 14), discr, alpha=0.5, align='center', label='individual discriminability')\n",
        "plt.step(range(1, 14), dum_discr, where='mid', label='cumulative discriminability')\n",
        "\n",
        "plt.ylabel('discriminability ratio')\n",
        "plt.xlabel('linear discriminants')\n",
        "\n",
        "plt.ylim([-0.1, 1.1])\n",
        "plt.legend(loc='best')\n",
        "plt.tight_layout()\n",
        "plt.show()"
      ],
      "execution_count": 15,
      "outputs": [
        {
          "output_type": "display_data",
          "data": {
            "image/png": "[encoded data removed]",
            "text/plain": [
              "<Figure size 432x288 with 1 Axes>"
            ]
          },
          "metadata": {
            "tags": [],
            "needs_background": "light"
          }
        }
      ]
    },
    {
      "cell_type": "code",
      "metadata": {
        "id": "P9pNIQ3B0rdd",
        "colab_type": "code",
        "colab": {
          "base_uri": "https://localhost:8080/",
          "height": 255
        },
        "outputId": "90751351-7b8f-43d3-eaa5-692f6df8d3f4"
      },
      "source": [
        "w = np.hstack((eigen_pairs[0][1][:, np.newaxis].real,\n",
        "               eigen_pairs[1][1][:, np.newaxis].real))\n",
        "print('행렬 W:\\n', w)"
      ],
      "execution_count": 16,
      "outputs": [
        {
          "output_type": "stream",
          "text": [
            "행렬 W:\n",
            " [[-0.1484 -0.4093]\n",
            " [ 0.091  -0.1583]\n",
            " [-0.0168 -0.3536]\n",
            " [ 0.1487  0.322 ]\n",
            " [-0.0165 -0.0813]\n",
            " [ 0.1912  0.0841]\n",
            " [-0.7333  0.2828]\n",
            " [-0.0751 -0.0099]\n",
            " [ 0.002   0.0902]\n",
            " [ 0.2953 -0.2168]\n",
            " [-0.0327  0.274 ]\n",
            " [-0.3539 -0.0133]\n",
            " [-0.3918 -0.5954]]\n"
          ],
          "name": "stdout"
        }
      ]
    },
    {
      "cell_type": "code",
      "metadata": {
        "id": "RL021igE1OGq",
        "colab_type": "code",
        "colab": {
          "base_uri": "https://localhost:8080/",
          "height": 297
        },
        "outputId": "6d9b95b2-565c-4a4c-b0cd-1a960dd391e7"
      },
      "source": [
        "X_train_lda = X_train_std.dot(w)\n",
        "colors = ['r', 'b', 'g']\n",
        "markers = ['s', 'x', 'o']\n",
        "\n",
        "for l, c, m in zip(np.unique(y_train), colors, markers):\n",
        "  plt.scatter(X_train_lda[y_train==l, 0],\n",
        "              X_train_lda[y_train==l, 1] * (-1),\n",
        "              c=c, label=l, marker=m)\n",
        "  \n",
        "plt.xlabel('LD 1')\n",
        "plt.ylabel('LD 2')\n",
        "\n",
        "plt.legend(loc='best')\n",
        "plt.tight_layout()\n",
        "plt.show()"
      ],
      "execution_count": 18,
      "outputs": [
        {
          "output_type": "display_data",
          "data": {
            "image/png": "[encoded data removed]",
            "text/plain": [
              "<Figure size 432x288 with 1 Axes>"
            ]
          },
          "metadata": {
            "tags": [],
            "needs_background": "light"
          }
        }
      ]
    },
    {
      "cell_type": "code",
      "metadata": {
        "id": "Ua3_zVZM2RC2",
        "colab_type": "code",
        "colab": {}
      },
      "source": [
        "from matplotlib.colors import ListedColormap\n",
        "\n",
        "def plot_decision_regions(X, y, classifier, resolution=0.02):\n",
        "  # setting\n",
        "  markers = ('s', 'x', 'o', '^', 'v')\n",
        "  colors = ('red', 'blue', 'lightgreen', 'gray', 'cyan')\n",
        "  cmap = ListedColormap(colors[:len(np.unique(y))])\n",
        "\n",
        "  # draw decision_regions\n",
        "  x1_min, x1_max = X[:, 0].min() - 1, X[:, 0].max() + 1\n",
        "  x2_min, x2_max = X[:, 1].min() -1, X[:, 1].max() + 1\n",
        "\n",
        "  xx1, xx2 = np.meshgrid(np.arange(x1_min, x1_max, resolution),\n",
        "                         np.arange(x2_min, x2_max, resolution))\n",
        "  \n",
        "  # T is transpose\n",
        "  Z = classifier.predict(np.array([xx1.ravel(), xx2.ravel()]).T)\n",
        "  Z = Z.reshape(xx1.shape)\n",
        "\n",
        "  plt.contourf(xx1, xx2, Z, alpha=0.3, cmap=cmap)\n",
        "  plt.xlim(xx1.min(), xx1.max())\n",
        "  plt.ylim(xx2.min(), xx2.max())\n",
        "\n",
        "\n",
        "  for idx, cl in enumerate(np.unique(y)):\n",
        "    plt.scatter(x=X[y == cl, 0],\n",
        "                y=X[y == cl, 1],\n",
        "                alpha =0.8,\n",
        "                c=colors[idx],\n",
        "                marker=markers[idx],\n",
        "                label=cl,\n",
        "                edgecolor='black')"
      ],
      "execution_count": 0,
      "outputs": []
    },
    {
      "cell_type": "code",
      "metadata": {
        "id": "NVnf7XA_1v21",
        "colab_type": "code",
        "colab": {
          "base_uri": "https://localhost:8080/",
          "height": 297
        },
        "outputId": "f60f1ee4-a45a-461a-9f0c-32219d76cb9a"
      },
      "source": [
        "from sklearn.linear_model import LogisticRegression\n",
        "from sklearn.discriminant_analysis import LinearDiscriminantAnalysis as LDA\n",
        "\n",
        "lda = LDA(n_components=2)\n",
        "X_train_lda = lda.fit_transform(X_train_std, y_train)\n",
        "\n",
        "lr = LogisticRegression(solver='liblinear', multi_class='auto')\n",
        "lr = lr.fit(X_train_lda, y_train)\n",
        "\n",
        "plot_decision_regions(X_train_lda, y_train, classifier=lr)\n",
        "plt.xlabel('LD 1')\n",
        "plt.ylabel('LD 2')\n",
        "\n",
        "plt.legend(loc='lower left')\n",
        "plt.tight_layout()\n",
        "plt.show()"
      ],
      "execution_count": 23,
      "outputs": [
        {
          "output_type": "display_data",
          "data": {
            "image/png": "[encoded data removed]",
            "text/plain": [
              "<Figure size 432x288 with 1 Axes>"
            ]
          },
          "metadata": {
            "tags": [],
            "needs_background": "light"
          }
        }
      ]
    },
    {
      "cell_type": "code",
      "metadata": {
        "id": "DByIyswC2ggL",
        "colab_type": "code",
        "colab": {}
      },
      "source": [
        ""
      ],
      "execution_count": 0,
      "outputs": []
    }
  ]
}