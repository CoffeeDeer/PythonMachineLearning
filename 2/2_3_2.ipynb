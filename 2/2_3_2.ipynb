{
  "nbformat": 4,
  "nbformat_minor": 0,
  "metadata": {
    "colab": {
      "name": "2_3_2.ipynb",
      "provenance": [],
      "collapsed_sections": []
    },
    "kernelspec": {
      "name": "python3",
      "display_name": "Python 3"
    }
  },
  "cells": [
    {
      "cell_type": "code",
      "metadata": {
        "id": "T73b4J22XO8z",
        "colab_type": "code",
        "colab": {}
      },
      "source": [
        "## 확률적 경사 하강법 적용!!!!!!!!!!\n",
        "\n",
        "import numpy as np\n",
        "\n",
        "# stochastic\n",
        "class AdalineSGD(object):\n",
        "  \"\"\"\n",
        "  아달린(적응형 선형 뉴런) 분류기\n",
        "\n",
        "  매개변수\n",
        "  ------------\n",
        "  eta : float\n",
        "    학습률(0.0 과 1.0 사이)\n",
        "  n_iter : int\n",
        "    훈련 데이터의 반복 횟수\n",
        "  shuffle : bool(default: True)\n",
        "    each epochs shuffle data\n",
        "  random_state : int\n",
        "    가중치 무작위 쵝화를 위한 난수 생성기 시드\n",
        "\n",
        "  속성\n",
        "  -------------\n",
        "  w_ : 1d-array\n",
        "    학습된 가중치\n",
        "  errors_ : list\n",
        "    에포크마다 누적된 분류 오류\n",
        "  \"\"\"\n",
        "\n",
        "  def __init__(self, eta=0.01, n_iter=50, shuffle=True, random_state=1):\n",
        "    self.eta = eta\n",
        "    self.n_iter = n_iter\n",
        "    self.shuffle = shuffle\n",
        "    self.random_state = random_state\n",
        "\n",
        "  def fit(self, X, y):\n",
        "    \"\"\"훈련 데이터 학습\n",
        "\n",
        "    매개변수\n",
        "    ------------\n",
        "    X : {array-like}, shape=[n_samples, n_features]\n",
        "      n개의 샘플과 n개의 특성으로 이루어진 훈련 데이터\n",
        "    y : array-like, shape = [n_samples]\n",
        "      타겟 값\n",
        "\n",
        "    return value\n",
        "    ------------\n",
        "    self: obejct\n",
        "    \"\"\"\n",
        "    self._initialize_weights(X.shape[1])\n",
        "    self.cost_ = []\n",
        "\n",
        "    for i in range(self.n_iter):\n",
        "      if self.shuffle:\n",
        "        X, y = self._shuffle(X, y)\n",
        "\n",
        "      cost = []\n",
        "      # 아달린이랑 다른거 아니야? \n",
        "      for xi, target in zip(X, y):\n",
        "        cost.append(self._update_weights(xi, target))\n",
        "      avg_cost = sum(cost) / len(y)\n",
        "      self.cost_.append(avg_cost)\n",
        "\n",
        "    return self\n",
        "  \n",
        "  # 가중치를 다시 초기화하지 않고 훈련데이털르 학습\n",
        "  def partial_fit(self, X, y):\n",
        "    if not self.w_initialized:\n",
        "      self._initialze_weights(X.shape[1])\n",
        "\n",
        "    # 몰까 이게? \n",
        "    if y.ravel().shape[0] > 1:\n",
        "      for xi, target in zip(X, y):\n",
        "        self._update_weights(xi, target)\n",
        "    else:\n",
        "      self._update_weights(X, y)\n",
        "    \n",
        "    return self\n",
        "\n",
        "\n",
        "  def _shuffle(self, X, y):\n",
        "    r = self.rgen.permutation(len(y))\n",
        "    return X[r], y[r]\n",
        "\n",
        "  # 랜덤한 작은수로 가중치를 초기화 진행\n",
        "  def _initialize_weights(self, m):\n",
        "    self.rgen = np.random.RandomState(self.random_state)\n",
        "    self.w_ = self.rgen.normal(loc=0.0, scale=0.01, size=1 + m)\n",
        "    self.w_initialized = True\n",
        "\n",
        "  def _update_weights(self, xi, target):\n",
        "    output = self.activation(self.net_input(xi))\n",
        "    error = (target - output)\n",
        "    self.w_[1:] += self.eta * xi.dot(error)\n",
        "    self.w_[0] += self.eta * error\n",
        "    cost = 0.5 * error**2\n",
        "    return cost\n",
        "\n",
        "  #최종 입력 계산\n",
        "  def net_input(self, X):\n",
        "    return np.dot(X, self.w_[1:]) + self.w_[0]\n",
        "\n",
        "  # 선형 활성화 계산\n",
        "  def activation(self, X):\n",
        "    return X\n",
        "\n",
        "  def predict(self, X):\n",
        "    return np.where(self.activation(self.net_input(X)) >= 0.0, 1, -1)\n"
      ],
      "execution_count": 0,
      "outputs": []
    },
    {
      "cell_type": "code",
      "metadata": {
        "id": "psVtuWlTW39a",
        "colab_type": "code",
        "colab": {}
      },
      "source": [
        "import pandas as pd\n",
        "\n",
        "df = pd.read_csv('https://archive.ics.uci.edu/ml/''machine-learning-databases/iris/iris.data', header=None)"
      ],
      "execution_count": 0,
      "outputs": []
    },
    {
      "cell_type": "code",
      "metadata": {
        "id": "4BPts35aVskn",
        "colab_type": "code",
        "outputId": "29ce0584-ad40-4d8d-d3a4-a6cbaced11d8",
        "colab": {
          "base_uri": "https://localhost:8080/",
          "height": 102
        }
      },
      "source": [
        "import matplotlib.pyplot as plt\n",
        "import numpy as np\n",
        "\n",
        "# select setosa & versicolor \n",
        "y = df.iloc[0:100, 4].values\n",
        "print('1: ', y[:5])\n",
        "print('2: ', y[50:55])\n",
        "\n",
        "y = np.where(y == 'Iris-setosa', -1, 1)\n",
        "print('3: ', y[:5])\n",
        "print('4: ', y[50:55])\n"
      ],
      "execution_count": 5,
      "outputs": [
        {
          "output_type": "stream",
          "text": [
            "1:  ['Iris-setosa' 'Iris-setosa' 'Iris-setosa' 'Iris-setosa' 'Iris-setosa']\n",
            "2:  ['Iris-versicolor' 'Iris-versicolor' 'Iris-versicolor' 'Iris-versicolor'\n",
            " 'Iris-versicolor']\n",
            "3:  [-1 -1 -1 -1 -1]\n",
            "4:  [1 1 1 1 1]\n"
          ],
          "name": "stdout"
        }
      ]
    },
    {
      "cell_type": "code",
      "metadata": {
        "id": "u9zo35vfWLR4",
        "colab_type": "code",
        "outputId": "d4ddac97-df80-4216-83e5-6d18a63db6cc",
        "colab": {
          "base_uri": "https://localhost:8080/",
          "height": 279
        }
      },
      "source": [
        "X = df.iloc[0:100, [0, 2]].values\n",
        "\n",
        "# make scatter\n",
        "plt.scatter(X[:50, 0], X[:50, 1], color='red', marker='o', label='setosa')\n",
        "plt.scatter(X[50:100, 0], X[50:100, 1], color='blue', marker='X', label='versicolor')\n",
        "\n",
        "plt.xlabel('sepal length [cm]')\n",
        "plt.ylabel('petal length [cm]')\n",
        "plt.legend(loc='upper left')\n",
        "plt.show()"
      ],
      "execution_count": 6,
      "outputs": [
        {
          "output_type": "display_data",
          "data": {
            "image/png": "[encoded data removed]",
            "text/plain": [
              "<Figure size 432x288 with 1 Axes>"
            ]
          },
          "metadata": {
            "tags": [],
            "needs_background": "light"
          }
        }
      ]
    },
    {
      "cell_type": "code",
      "metadata": {
        "id": "oCMpq_M6h5_3",
        "colab_type": "code",
        "colab": {}
      },
      "source": [
        "from matplotlib.colors import ListedColormap\n",
        "\n",
        "def plot_decision_regions(X, y, classifier, resolution=0.02):\n",
        "  # setting\n",
        "  markers = ('s', 'x', 'o', '^', 'v')\n",
        "  colors = ('red', 'blue', 'lightgreen', 'gray', 'cyan')\n",
        "  cmap = ListedColormap(colors[:len(np.unique(y))])\n",
        "\n",
        "  # draw decision_regions\n",
        "  x1_min, x1_max = X[:, 0].min() - 1, X[:, 0].max() + 1\n",
        "  x2_min, x2_max = X[:, 1].min() -1, X[:, 1].max() + 1\n",
        "\n",
        "  xx1, xx2 = np.meshgrid(np.arange(x1_min, x1_max, resolution),\n",
        "                         np.arange(x2_min, x2_max, resolution))\n",
        "  \n",
        "  # T is transpose\n",
        "  Z = classifier.predict(np.array([xx1.ravel(), xx2.ravel()]).T)\n",
        "  Z = Z.reshape(xx1.shape)\n",
        "\n",
        "  plt.contourf(xx1, xx2, Z, alpha=0.3, cmap=cmap)\n",
        "  plt.xlim(xx1.min(), xx1.max())\n",
        "  plt.ylim(xx2.min(), xx2.max())\n",
        "\n",
        "\n",
        "  for idx, cl in enumerate(np.unique(y)):\n",
        "    plt.scatter(x=X[y == cl, 0],\n",
        "                y=X[y == cl, 1],\n",
        "                alpha =0.8,\n",
        "                c=colors[idx],\n",
        "                marker=markers[idx],\n",
        "                label=cl,\n",
        "                edgecolor='black')"
      ],
      "execution_count": 0,
      "outputs": []
    },
    {
      "cell_type": "code",
      "metadata": {
        "id": "6TVLnMSBg-EX",
        "colab_type": "code",
        "colab": {}
      },
      "source": [
        "X_std = np.copy(X)\n",
        "X_std[:, 0] = (X[:, 0] - X[:, 0].mean()) / X[:, 0].std()\n",
        "X_std[:, 1] = (X[:, 1] - X[:, 1].mean()) / X[:, 1].std()"
      ],
      "execution_count": 0,
      "outputs": []
    },
    {
      "cell_type": "code",
      "metadata": {
        "id": "QLYNn59thVJD",
        "colab_type": "code",
        "outputId": "ed175dff-a675-460a-b049-afb3e07da062",
        "colab": {
          "base_uri": "https://localhost:8080/",
          "height": 576
        }
      },
      "source": [
        "ada = AdalineSGD(n_iter=15, eta=0.01, random_state=1)\n",
        "ada.fit(X_std, y)\n",
        "\n",
        "plot_decision_regions(X_std, y, classifier=ada)\n",
        "plt.title('Adaline - Gradient Descent')\n",
        "plt.xlabel('sepal length [cm]')\n",
        "plt.ylabel('petal length [cm]')\n",
        "plt.legend(loc='upper left')\n",
        "plt.tight_layout()\n",
        "plt.show()\n",
        "\n",
        "plt.plot(range(1, len(ada.cost_) + 1), np.log10(ada.cost_), marker='o')\n",
        "plt.xlabel('Epochs')\n",
        "plt.ylabel('log(Sum-squared-error)')"
      ],
      "execution_count": 16,
      "outputs": [
        {
          "output_type": "display_data",
          "data": {
            "image/png": "[encoded data removed]",
            "text/plain": [
              "<Figure size 432x288 with 1 Axes>"
            ]
          },
          "metadata": {
            "tags": [],
            "needs_background": "light"
          }
        },
        {
          "output_type": "execute_result",
          "data": {
            "text/plain": [
              "Text(0, 0.5, 'log(Sum-squared-error)')"
            ]
          },
          "metadata": {
            "tags": []
          },
          "execution_count": 16
        },
        {
          "output_type": "display_data",
          "data": {
            "image/png": "[encoded data removed]",
            "text/plain": [
              "<Figure size 432x288 with 1 Axes>"
            ]
          },
          "metadata": {
            "tags": [],
            "needs_background": "light"
          }
        }
      ]
    },
    {
      "cell_type": "code",
      "metadata": {
        "id": "J-GKu2jUmnIF",
        "colab_type": "code",
        "colab": {}
      },
      "source": [
        ""
      ],
      "execution_count": 0,
      "outputs": []
    }
  ]
}